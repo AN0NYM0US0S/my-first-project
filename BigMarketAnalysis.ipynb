{
 "cells": [
  {
   "cell_type": "markdown",
   "id": "0e774826",
   "metadata": {},
   "source": [
    "\n",
    "        ### Dataset Overview\n",
    "        - Shape: (8523, 12)\n",
    "        - Columns: Item_Identifier, Item_Weight, Item_Fat_Content, Item_Visibility, Item_Type, Item_MRP, Outlet_Identifier, Outlet_Establishment_Year, Outlet_Size, Outlet_Location_Type, Outlet_Type, Item_Outlet_Sales\n",
    "        \n",
    "        #### Missing Values\n",
    "        Item_Identifier                 0\n",
    "Item_Weight                  1463\n",
    "Item_Fat_Content                0\n",
    "Item_Visibility                 0\n",
    "Item_Type                       0\n",
    "Item_MRP                        0\n",
    "Outlet_Identifier               0\n",
    "Outlet_Establishment_Year       0\n",
    "Outlet_Size                  2410\n",
    "Outlet_Location_Type            0\n",
    "Outlet_Type                     0\n",
    "Item_Outlet_Sales               0\n",
    "        "
   ]
  },
  {
   "cell_type": "markdown",
   "id": "6e6e6767",
   "metadata": {},
   "source": [
    "#### Missing Values After Handling\n",
    "```\n",
    "Item_Identifier              0\n",
    "Item_Weight                  0\n",
    "Item_Fat_Content             0\n",
    "Item_Visibility              0\n",
    "Item_Type                    0\n",
    "Item_MRP                     0\n",
    "Outlet_Identifier            0\n",
    "Outlet_Establishment_Year    0\n",
    "Outlet_Size                  0\n",
    "Outlet_Location_Type         0\n",
    "Outlet_Type                  0\n",
    "Item_Outlet_Sales            0\n",
    "```"
   ]
  },
  {
   "cell_type": "markdown",
   "id": "e182d862",
   "metadata": {},
   "source": [
    "\n",
    "        ### Model Performance\n",
    "        - Mean Squared Error: 1207203.6632\n",
    "        - R-squared Score: 0.5558\n",
    "        "
   ]
  },
  {
   "cell_type": "markdown",
   "id": "e2228a49",
   "metadata": {},
   "source": [
    "![Visualization](visualizations.png)"
   ]
  }
 ],
 "metadata": {},
 "nbformat": 4,
 "nbformat_minor": 5
}
