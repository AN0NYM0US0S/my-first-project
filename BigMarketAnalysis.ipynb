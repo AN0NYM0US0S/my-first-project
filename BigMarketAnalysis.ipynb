{
 "cells": [
  {
   "cell_type": "markdown",
   "id": "1ea61d50",
   "metadata": {},
   "source": [
    "\n",
    "# Dataset Overview\n",
    "**Shape:** (8523, 12)\n",
    "\n",
    "**Info:**\n",
    "\n",
    "None\n",
    "\n",
    "**Missing Values:**\n",
    "Item_Identifier                 0\n",
    "Item_Weight                  1463\n",
    "Item_Fat_Content                0\n",
    "Item_Visibility                 0\n",
    "Item_Type                       0\n",
    "Item_MRP                        0\n",
    "Outlet_Identifier               0\n",
    "Outlet_Establishment_Year       0\n",
    "Outlet_Size                  2410\n",
    "Outlet_Location_Type            0\n",
    "Outlet_Type                     0\n",
    "Item_Outlet_Sales               0\n",
    "dtype: int64\n",
    "        "
   ]
  },
  {
   "cell_type": "code",
   "execution_count": null,
   "id": "dd16c628",
   "metadata": {},
   "outputs": [],
   "source": [
    "print('Missing Values After Handling:\\n', Item_Identifier              0\n",
    "Item_Weight                  0\n",
    "Item_Fat_Content             0\n",
    "Item_Visibility              0\n",
    "Item_Type                    0\n",
    "Item_MRP                     0\n",
    "Outlet_Identifier            0\n",
    "Outlet_Establishment_Year    0\n",
    "Outlet_Size                  0\n",
    "Outlet_Location_Type         0\n",
    "Outlet_Type                  0\n",
    "Item_Outlet_Sales            0\n",
    "dtype: int64)"
   ]
  },
  {
   "cell_type": "code",
   "execution_count": null,
   "id": "9a1c476d",
   "metadata": {},
   "outputs": [],
   "source": [
    "print('Categorical Features Encoded:\\n', ['Item_Identifier', 'Item_Fat_Content', 'Item_Type', 'Outlet_Identifier', 'Outlet_Size', 'Outlet_Location_Type', 'Outlet_Type'])"
   ]
  },
  {
   "cell_type": "code",
   "execution_count": null,
   "id": "4089386e",
   "metadata": {},
   "outputs": [],
   "source": [
    "print('Data Prepared for Machine Learning')"
   ]
  },
  {
   "cell_type": "code",
   "execution_count": null,
   "id": "17a17411",
   "metadata": {},
   "outputs": [],
   "source": [
    "print('Model Trained')"
   ]
  },
  {
   "cell_type": "markdown",
   "id": "c94ef0ae",
   "metadata": {},
   "source": [
    "\n",
    "# Model Performance\n",
    "- **Mean Squared Error:** 1207203.6631503815\n",
    "- **R-squared Score:** 0.5558436503853459\n",
    "        "
   ]
  },
  {
   "cell_type": "code",
   "execution_count": null,
   "id": "e2d5081f",
   "metadata": {},
   "outputs": [],
   "source": [
    "\n",
    "# Visualization Code\n",
    "plt.show()\n",
    "        "
   ]
  }
 ],
 "metadata": {},
 "nbformat": 4,
 "nbformat_minor": 5
}
