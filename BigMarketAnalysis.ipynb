{
 "cells": [
  {
   "cell_type": "markdown",
   "id": "95da800a",
   "metadata": {},
   "source": [
    "### Dataset Overview"
   ]
  },
  {
   "cell_type": "markdown",
   "id": "c4a05a46",
   "metadata": {},
   "source": [
    "Dataset Shape: (8523, 12)"
   ]
  },
  {
   "cell_type": "markdown",
   "id": "c3bf854e",
   "metadata": {},
   "source": [
    "Dataset Info:"
   ]
  },
  {
   "cell_type": "code",
   "execution_count": null,
   "id": "227880a9",
   "metadata": {},
   "outputs": [],
   "source": [
    "df.info()"
   ]
  },
  {
   "cell_type": "markdown",
   "id": "08c9282c",
   "metadata": {},
   "source": [
    "Missing Values:"
   ]
  },
  {
   "cell_type": "code",
   "execution_count": null,
   "id": "80dd0a34",
   "metadata": {},
   "outputs": [],
   "source": [
    "df.isnull().sum()"
   ]
  },
  {
   "cell_type": "markdown",
   "id": "70b05e8f",
   "metadata": {},
   "source": [
    "### Missing Values After Handling:"
   ]
  },
  {
   "cell_type": "code",
   "execution_count": null,
   "id": "b592e8b8",
   "metadata": {},
   "outputs": [],
   "source": [
    "df.isnull().sum()"
   ]
  },
  {
   "cell_type": "markdown",
   "id": "3c0038f4",
   "metadata": {},
   "source": [
    "### Encoded Categorical Features:"
   ]
  },
  {
   "cell_type": "code",
   "execution_count": null,
   "id": "58bb7506",
   "metadata": {},
   "outputs": [],
   "source": [
    "df.head()"
   ]
  },
  {
   "cell_type": "markdown",
   "id": "2fbb2633",
   "metadata": {},
   "source": [
    "### Scaled Data:"
   ]
  },
  {
   "cell_type": "code",
   "execution_count": null,
   "id": "ad07379d",
   "metadata": {},
   "outputs": [],
   "source": [
    "X_train_scaled[:5], X_test_scaled[:5]"
   ]
  },
  {
   "cell_type": "markdown",
   "id": "9b2e7aae",
   "metadata": {},
   "source": [
    "### Model Training Completed"
   ]
  },
  {
   "cell_type": "markdown",
   "id": "b0e65563",
   "metadata": {},
   "source": [
    "### Model Performance:"
   ]
  },
  {
   "cell_type": "markdown",
   "id": "040177da",
   "metadata": {},
   "source": [
    "- Mean Squared Error: 1207203.6631503815"
   ]
  },
  {
   "cell_type": "markdown",
   "id": "f19aa763",
   "metadata": {},
   "source": [
    "- R-squared Score: 0.5558436503853459"
   ]
  },
  {
   "cell_type": "markdown",
   "id": "333f1ee5",
   "metadata": {},
   "source": [
    "### Actual vs Predicted Sales"
   ]
  },
  {
   "cell_type": "code",
   "execution_count": null,
   "id": "11bfc561",
   "metadata": {},
   "outputs": [],
   "source": [
    "from IPython.display import Image\n",
    "Image('results/actual_vs_predicted.png')"
   ]
  },
  {
   "cell_type": "markdown",
   "id": "a9b880dd",
   "metadata": {},
   "source": [
    "### Feature Importance"
   ]
  },
  {
   "cell_type": "code",
   "execution_count": null,
   "id": "4962274a",
   "metadata": {},
   "outputs": [],
   "source": [
    "Image('results/feature_importance.png')"
   ]
  },
  {
   "cell_type": "markdown",
   "id": "714740e0",
   "metadata": {},
   "source": [
    "### Error Distribution"
   ]
  },
  {
   "cell_type": "code",
   "execution_count": null,
   "id": "1d4d3b24",
   "metadata": {},
   "outputs": [],
   "source": [
    "Image('results/error_distribution.png')"
   ]
  },
  {
   "cell_type": "markdown",
   "id": "dcd8d67a",
   "metadata": {},
   "source": [
    "### Residual Plot"
   ]
  },
  {
   "cell_type": "code",
   "execution_count": null,
   "id": "b3b599e3",
   "metadata": {},
   "outputs": [],
   "source": [
    "Image('results/residual_plot.png')"
   ]
  }
 ],
 "metadata": {},
 "nbformat": 4,
 "nbformat_minor": 5
}
