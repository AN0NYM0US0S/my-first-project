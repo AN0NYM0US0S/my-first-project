{
 "cells": [
  {
   "cell_type": "markdown",
   "id": "f50c95ba",
   "metadata": {},
   "source": [
    "# Big Market Analysis"
   ]
  },
  {
   "cell_type": "markdown",
   "id": "be2d9ce7",
   "metadata": {},
   "source": [
    "## Data Overview"
   ]
  },
  {
   "cell_type": "code",
   "execution_count": null,
   "id": "9bd6b1e5",
   "metadata": {},
   "outputs": [],
   "source": [
    "print('Dataset Overview: Dataset Shape: (8523, 12)\n",
    "\n",
    "Dataset Info:\n",
    "None\n",
    "Missing Values:\n",
    "Item_Identifier                 0\n",
    "Item_Weight                  1463\n",
    "Item_Fat_Content                0\n",
    "Item_Visibility                 0\n",
    "Item_Type                       0\n",
    "Item_MRP                        0\n",
    "Outlet_Identifier               0\n",
    "Outlet_Establishment_Year       0\n",
    "Outlet_Size                  2410\n",
    "Outlet_Location_Type            0\n",
    "Outlet_Type                     0\n",
    "Item_Outlet_Sales               0\n",
    "dtype: int64')"
   ]
  },
  {
   "cell_type": "markdown",
   "id": "6c49d18e",
   "metadata": {},
   "source": [
    "## Missing Values Handling"
   ]
  },
  {
   "cell_type": "code",
   "execution_count": null,
   "id": "a136e4ac",
   "metadata": {},
   "outputs": [],
   "source": [
    "print('Missing Values Handled: \n",
    "Missing Values After Handling:\n",
    "Item_Identifier              0\n",
    "Item_Weight                  0\n",
    "Item_Fat_Content             0\n",
    "Item_Visibility              0\n",
    "Item_Type                    0\n",
    "Item_MRP                     0\n",
    "Outlet_Identifier            0\n",
    "Outlet_Establishment_Year    0\n",
    "Outlet_Size                  0\n",
    "Outlet_Location_Type         0\n",
    "Outlet_Type                  0\n",
    "Item_Outlet_Sales            0\n",
    "dtype: int64')"
   ]
  },
  {
   "cell_type": "markdown",
   "id": "4ab5f80a",
   "metadata": {},
   "source": [
    "## Model Performance"
   ]
  },
  {
   "cell_type": "code",
   "execution_count": null,
   "id": "20779665",
   "metadata": {},
   "outputs": [],
   "source": [
    "print('MSE: 1207203.6631503815, R2: 0.5558436503853459')"
   ]
  },
  {
   "cell_type": "markdown",
   "id": "3439e2ad",
   "metadata": {},
   "source": [
    "## Visualizations"
   ]
  },
  {
   "cell_type": "code",
   "execution_count": null,
   "id": "1b543c87",
   "metadata": {},
   "outputs": [],
   "source": [
    "from IPython.display import Image\n",
    "Image(filename='results_plots.png')"
   ]
  }
 ],
 "metadata": {},
 "nbformat": 4,
 "nbformat_minor": 5
}
